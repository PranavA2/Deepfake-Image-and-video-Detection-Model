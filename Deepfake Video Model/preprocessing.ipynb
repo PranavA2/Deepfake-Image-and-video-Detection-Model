{
 "cells": [
  {
   "cell_type": "code",
   "execution_count": 1,
   "id": "365e3d38",
   "metadata": {},
   "outputs": [
    {
     "name": "stderr",
     "output_type": "stream",
     "text": [
      "C:\\Users\\pajag\\anaconda3\\lib\\site-packages\\numpy\\_distributor_init.py:30: UserWarning: loaded more than 1 DLL from .libs:\n",
      "C:\\Users\\pajag\\anaconda3\\lib\\site-packages\\numpy\\.libs\\libopenblas.4sp5sua7cbgxueoc35yp2asoicyyeqzz.gfortran-win_amd64.dll\n",
      "C:\\Users\\pajag\\anaconda3\\lib\\site-packages\\numpy\\.libs\\libopenblas.WCDJNK7YVMPZQ2ME2ZZHJJRJ3JIKNDB7.gfortran-win_amd64.dll\n",
      "  warnings.warn(\"loaded more than 1 DLL from .libs:\"\n"
     ]
    }
   ],
   "source": [
    "import numpy as np\n",
    "import os\n",
    "import cv2\n",
    "from tensorflow.keras.models import load_model\n",
    "import pandas as pd"
   ]
  },
  {
   "cell_type": "code",
   "execution_count": 2,
   "id": "668426bb",
   "metadata": {},
   "outputs": [],
   "source": [
    "import cv2\n",
    "import os\n",
    "\n",
    "def preprocess_videos(input_folder, output_folder, target_size=(224,224), max_frames_per_video=128):\n",
    "    os.makedirs(output_folder, exist_ok=True)\n",
    "\n",
    "    for video_file in os.listdir(input_folder):\n",
    "        if video_file.endswith(\".mp4\") or video_file.endswith(\".avi\"):\n",
    "            video_path = os.path.join(input_folder, video_file)\n",
    "\n",
    "            cap = cv2.VideoCapture(video_path)\n",
    "\n",
    "            total_frame_count = int(cap.get(cv2.CAP_PROP_FRAME_COUNT))\n",
    "\n",
    "\n",
    "            sampling_interval = max(1, total_frame_count // max_frames_per_video)\n",
    "\n",
    "            frame_count = 0\n",
    "            frames_list = []\n",
    "\n",
    "            while True:\n",
    "                ret, frame = cap.read()\n",
    "\n",
    "                if not ret:\n",
    "                    break\n",
    "\n",
    "                resized_frame = cv2.resize(frame, target_size)\n",
    "\n",
    "                output_path = os.path.join(output_folder, f\"{video_file}_frame_{frame_count}.png\")\n",
    "                cv2.imwrite(output_path, resized_frame)\n",
    "\n",
    "                frame_count += 1\n",
    "\n",
    "                if frame_count >= max_frames_per_video:\n",
    "                    break\n",
    "\n",
    "                cap.set(cv2.CAP_PROP_POS_FRAMES, frame_count * sampling_interval)\n",
    "\n",
    "            cap.release()\n",
    "\n",
    "\n",
    "# Example usage\n",
    "input_folder = 'C://Users//pajag//OneDrive//Desktop//deepfake_video//Real'\n",
    "output_folder = 'C://Users//pajag//OneDrive//Desktop//frame//test_real'\n",
    "target_size = (224, 224)  \n",
    "max_frames_per_video = 32  \n",
    "\n",
    "preprocess_videos(input_folder, output_folder, target_size, max_frames_per_video)\n"
   ]
  },
  {
   "cell_type": "code",
   "execution_count": 3,
   "id": "182637d6",
   "metadata": {},
   "outputs": [],
   "source": [
    "input_folder_1 = 'C://Users//pajag//OneDrive//Desktop//deepfake_video//Fake'\n",
    "output_folder_1 = 'C://Users//pajag//OneDrive//Desktop//frame//test_fake'\n",
    "target_size = (224, 224)  \n",
    "max_frames_per_video = 32\n",
    "preprocess_videos(input_folder_1, output_folder_1, target_size, max_frames_per_video)"
   ]
  },
  {
   "cell_type": "code",
   "execution_count": 4,
   "id": "fb7d6a4b",
   "metadata": {},
   "outputs": [],
   "source": [
    "def frames_extraction(video_path):\n",
    "    frames_list = []\n",
    "    video_reader = cv2.VideoCapture(video_path)\n",
    "    while True:\n",
    "        success, frame = video_reader.read()\n",
    "        if not success:\n",
    "            break\n",
    "        resized_frame = cv2.resize(frame, (224, 224))\n",
    "        normalized_frame = resized_frame / 255\n",
    "        frames_list.append(normalized_frame)\n",
    "    video_reader.release()\n",
    "    return frames_list"
   ]
  },
  {
   "cell_type": "code",
   "execution_count": null,
   "id": "dc3801f9",
   "metadata": {},
   "outputs": [],
   "source": []
  }
 ],
 "metadata": {
  "kernelspec": {
   "display_name": "Python 3",
   "language": "python",
   "name": "python3"
  },
  "language_info": {
   "codemirror_mode": {
    "name": "ipython",
    "version": 3
   },
   "file_extension": ".py",
   "mimetype": "text/x-python",
   "name": "python",
   "nbconvert_exporter": "python",
   "pygments_lexer": "ipython3",
   "version": "3.8.8"
  }
 },
 "nbformat": 4,
 "nbformat_minor": 5
}
