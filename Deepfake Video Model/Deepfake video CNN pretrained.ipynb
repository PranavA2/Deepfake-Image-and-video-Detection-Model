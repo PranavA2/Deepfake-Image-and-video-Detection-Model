{
 "cells": [
  {
   "cell_type": "code",
   "execution_count": 1,
   "id": "39641e35",
   "metadata": {},
   "outputs": [
    {
     "name": "stderr",
     "output_type": "stream",
     "text": [
      "C:\\Users\\pajag\\anaconda3\\lib\\site-packages\\numpy\\_distributor_init.py:30: UserWarning: loaded more than 1 DLL from .libs:\n",
      "C:\\Users\\pajag\\anaconda3\\lib\\site-packages\\numpy\\.libs\\libopenblas.4sp5sua7cbgxueoc35yp2asoicyyeqzz.gfortran-win_amd64.dll\n",
      "C:\\Users\\pajag\\anaconda3\\lib\\site-packages\\numpy\\.libs\\libopenblas.WCDJNK7YVMPZQ2ME2ZZHJJRJ3JIKNDB7.gfortran-win_amd64.dll\n",
      "  warnings.warn(\"loaded more than 1 DLL from .libs:\"\n"
     ]
    }
   ],
   "source": [
    "import tensorflow as tf\n",
    "from tensorflow.keras import layers, models\n",
    "from tensorflow.keras.preprocessing.image import ImageDataGenerator\n",
    "from tensorflow.keras.optimizers import Adam\n",
    "import os\n",
    "import cv2\n",
    "import numpy as np\n",
    "import pandas as pd"
   ]
  },
  {
   "cell_type": "code",
   "execution_count": 2,
   "id": "53a09e39",
   "metadata": {},
   "outputs": [],
   "source": [
    "def preprocess_and_load_frames(video_path):\n",
    "    # Open the video file\n",
    "    cap = cv2.VideoCapture(video_path)\n",
    "    frames = []\n",
    "    while True:\n",
    "        ret, frame = cap.read()\n",
    "        if not ret:\n",
    "            break\n",
    "\n",
    "        # Resize the frame\n",
    "        resized_frame = cv2.resize(frame, (224, 224))\n",
    "        resized_frame = resized_frame / 255.0\n",
    "\n",
    "        frames.append(resized_frame)\n",
    "\n",
    "    cap.release()\n",
    "\n",
    "    return np.array(frames)"
   ]
  },
  {
   "cell_type": "code",
   "execution_count": 3,
   "id": "1609ea17",
   "metadata": {},
   "outputs": [],
   "source": [
    "data_1 = preprocess_and_load_frames(\"C://Users//pajag//Downloads//WhatsApp Video 2024-02-03 at 19.17.28.mp4\")"
   ]
  },
  {
   "cell_type": "code",
   "execution_count": 4,
   "id": "b9051196",
   "metadata": {},
   "outputs": [
    {
     "data": {
      "text/plain": [
       "(273, 224, 224, 3)"
      ]
     },
     "execution_count": 4,
     "metadata": {},
     "output_type": "execute_result"
    }
   ],
   "source": [
    "data_1.shape"
   ]
  },
  {
   "cell_type": "code",
   "execution_count": 5,
   "id": "d2521723",
   "metadata": {},
   "outputs": [],
   "source": [
    "x_batch_1 = [tf.convert_to_tensor(img) for img in data_1]\n",
    "x_batch_1 = tf.stack(x_batch_1)"
   ]
  },
  {
   "cell_type": "code",
   "execution_count": 9,
   "id": "fe37055d",
   "metadata": {},
   "outputs": [
    {
     "ename": "ValueError",
     "evalue": "Unknown optimizer: Custom>Adam. Please ensure this object is passed to the `custom_objects` argument. See https://www.tensorflow.org/guide/keras/save_and_serialize#registering_the_custom_object for details.",
     "output_type": "error",
     "traceback": [
      "\u001b[1;31m---------------------------------------------------------------------------\u001b[0m",
      "\u001b[1;31mValueError\u001b[0m                                Traceback (most recent call last)",
      "\u001b[1;32m<ipython-input-9-a5ef7addc6ec>\u001b[0m in \u001b[0;36m<module>\u001b[1;34m\u001b[0m\n\u001b[0;32m      1\u001b[0m \u001b[1;32mfrom\u001b[0m \u001b[0mtensorflow\u001b[0m\u001b[1;33m.\u001b[0m\u001b[0mkeras\u001b[0m\u001b[1;33m.\u001b[0m\u001b[0mmodels\u001b[0m \u001b[1;32mimport\u001b[0m \u001b[0mload_model\u001b[0m\u001b[1;33m\u001b[0m\u001b[1;33m\u001b[0m\u001b[0m\n\u001b[1;32m----> 2\u001b[1;33m \u001b[0mpretrained_model\u001b[0m \u001b[1;33m=\u001b[0m \u001b[0mload_model\u001b[0m\u001b[1;33m(\u001b[0m\u001b[1;34m'deepfake_detection_img_7_model.h5'\u001b[0m\u001b[1;33m)\u001b[0m\u001b[1;33m\u001b[0m\u001b[1;33m\u001b[0m\u001b[0m\n\u001b[0m",
      "\u001b[1;32m~\\anaconda3\\lib\\site-packages\\keras\\saving\\save.py\u001b[0m in \u001b[0;36mload_model\u001b[1;34m(filepath, custom_objects, compile, options)\u001b[0m\n\u001b[0;32m    198\u001b[0m         if (h5py is not None and\n\u001b[0;32m    199\u001b[0m             (isinstance(filepath, h5py.File) or h5py.is_hdf5(filepath))):\n\u001b[1;32m--> 200\u001b[1;33m           return hdf5_format.load_model_from_hdf5(filepath, custom_objects,\n\u001b[0m\u001b[0;32m    201\u001b[0m                                                   compile)\n\u001b[0;32m    202\u001b[0m \u001b[1;33m\u001b[0m\u001b[0m\n",
      "\u001b[1;32m~\\anaconda3\\lib\\site-packages\\keras\\saving\\hdf5_format.py\u001b[0m in \u001b[0;36mload_model_from_hdf5\u001b[1;34m(filepath, custom_objects, compile)\u001b[0m\n\u001b[0;32m    196\u001b[0m \u001b[1;33m\u001b[0m\u001b[0m\n\u001b[0;32m    197\u001b[0m       \u001b[1;31m# Compile model.\u001b[0m\u001b[1;33m\u001b[0m\u001b[1;33m\u001b[0m\u001b[1;33m\u001b[0m\u001b[0m\n\u001b[1;32m--> 198\u001b[1;33m       model.compile(**saving_utils.compile_args_from_training_config(\n\u001b[0m\u001b[0;32m    199\u001b[0m           training_config, custom_objects), from_serialized=True)\n\u001b[0;32m    200\u001b[0m       \u001b[0msaving_utils\u001b[0m\u001b[1;33m.\u001b[0m\u001b[0mtry_build_compiled_arguments\u001b[0m\u001b[1;33m(\u001b[0m\u001b[0mmodel\u001b[0m\u001b[1;33m)\u001b[0m\u001b[1;33m\u001b[0m\u001b[1;33m\u001b[0m\u001b[0m\n",
      "\u001b[1;32m~\\anaconda3\\lib\\site-packages\\keras\\saving\\saving_utils.py\u001b[0m in \u001b[0;36mcompile_args_from_training_config\u001b[1;34m(training_config, custom_objects)\u001b[0m\n\u001b[0;32m    200\u001b[0m   \u001b[1;32mwith\u001b[0m \u001b[0mgeneric_utils\u001b[0m\u001b[1;33m.\u001b[0m\u001b[0mCustomObjectScope\u001b[0m\u001b[1;33m(\u001b[0m\u001b[0mcustom_objects\u001b[0m\u001b[1;33m)\u001b[0m\u001b[1;33m:\u001b[0m\u001b[1;33m\u001b[0m\u001b[1;33m\u001b[0m\u001b[0m\n\u001b[0;32m    201\u001b[0m     \u001b[0moptimizer_config\u001b[0m \u001b[1;33m=\u001b[0m \u001b[0mtraining_config\u001b[0m\u001b[1;33m[\u001b[0m\u001b[1;34m'optimizer_config'\u001b[0m\u001b[1;33m]\u001b[0m\u001b[1;33m\u001b[0m\u001b[1;33m\u001b[0m\u001b[0m\n\u001b[1;32m--> 202\u001b[1;33m     \u001b[0moptimizer\u001b[0m \u001b[1;33m=\u001b[0m \u001b[0moptimizers\u001b[0m\u001b[1;33m.\u001b[0m\u001b[0mdeserialize\u001b[0m\u001b[1;33m(\u001b[0m\u001b[0moptimizer_config\u001b[0m\u001b[1;33m)\u001b[0m\u001b[1;33m\u001b[0m\u001b[1;33m\u001b[0m\u001b[0m\n\u001b[0m\u001b[0;32m    203\u001b[0m \u001b[1;33m\u001b[0m\u001b[0m\n\u001b[0;32m    204\u001b[0m     \u001b[1;31m# Recover losses.\u001b[0m\u001b[1;33m\u001b[0m\u001b[1;33m\u001b[0m\u001b[1;33m\u001b[0m\u001b[0m\n",
      "\u001b[1;32m~\\anaconda3\\lib\\site-packages\\keras\\optimizers.py\u001b[0m in \u001b[0;36mdeserialize\u001b[1;34m(config, custom_objects)\u001b[0m\n\u001b[0;32m     93\u001b[0m   \u001b[1;32mif\u001b[0m \u001b[0mconfig\u001b[0m\u001b[1;33m[\u001b[0m\u001b[1;34m'class_name'\u001b[0m\u001b[1;33m]\u001b[0m\u001b[1;33m.\u001b[0m\u001b[0mlower\u001b[0m\u001b[1;33m(\u001b[0m\u001b[1;33m)\u001b[0m \u001b[1;32min\u001b[0m \u001b[0mall_classes\u001b[0m\u001b[1;33m:\u001b[0m\u001b[1;33m\u001b[0m\u001b[1;33m\u001b[0m\u001b[0m\n\u001b[0;32m     94\u001b[0m     \u001b[0mconfig\u001b[0m\u001b[1;33m[\u001b[0m\u001b[1;34m'class_name'\u001b[0m\u001b[1;33m]\u001b[0m \u001b[1;33m=\u001b[0m \u001b[0mconfig\u001b[0m\u001b[1;33m[\u001b[0m\u001b[1;34m'class_name'\u001b[0m\u001b[1;33m]\u001b[0m\u001b[1;33m.\u001b[0m\u001b[0mlower\u001b[0m\u001b[1;33m(\u001b[0m\u001b[1;33m)\u001b[0m\u001b[1;33m\u001b[0m\u001b[1;33m\u001b[0m\u001b[0m\n\u001b[1;32m---> 95\u001b[1;33m   return deserialize_keras_object(\n\u001b[0m\u001b[0;32m     96\u001b[0m       \u001b[0mconfig\u001b[0m\u001b[1;33m,\u001b[0m\u001b[1;33m\u001b[0m\u001b[1;33m\u001b[0m\u001b[0m\n\u001b[0;32m     97\u001b[0m       \u001b[0mmodule_objects\u001b[0m\u001b[1;33m=\u001b[0m\u001b[0mall_classes\u001b[0m\u001b[1;33m,\u001b[0m\u001b[1;33m\u001b[0m\u001b[1;33m\u001b[0m\u001b[0m\n",
      "\u001b[1;32m~\\anaconda3\\lib\\site-packages\\keras\\utils\\generic_utils.py\u001b[0m in \u001b[0;36mdeserialize_keras_object\u001b[1;34m(identifier, module_objects, custom_objects, printable_module_name)\u001b[0m\n\u001b[0;32m    657\u001b[0m     \u001b[1;31m# In this case we are dealing with a Keras config dictionary.\u001b[0m\u001b[1;33m\u001b[0m\u001b[1;33m\u001b[0m\u001b[1;33m\u001b[0m\u001b[0m\n\u001b[0;32m    658\u001b[0m     \u001b[0mconfig\u001b[0m \u001b[1;33m=\u001b[0m \u001b[0midentifier\u001b[0m\u001b[1;33m\u001b[0m\u001b[1;33m\u001b[0m\u001b[0m\n\u001b[1;32m--> 659\u001b[1;33m     (cls, cls_config) = class_and_config_for_serialized_keras_object(\n\u001b[0m\u001b[0;32m    660\u001b[0m         config, module_objects, custom_objects, printable_module_name)\n\u001b[0;32m    661\u001b[0m \u001b[1;33m\u001b[0m\u001b[0m\n",
      "\u001b[1;32m~\\anaconda3\\lib\\site-packages\\keras\\utils\\generic_utils.py\u001b[0m in \u001b[0;36mclass_and_config_for_serialized_keras_object\u001b[1;34m(config, module_objects, custom_objects, printable_module_name)\u001b[0m\n\u001b[0;32m    554\u001b[0m   \u001b[0mcls\u001b[0m \u001b[1;33m=\u001b[0m \u001b[0mget_registered_object\u001b[0m\u001b[1;33m(\u001b[0m\u001b[0mclass_name\u001b[0m\u001b[1;33m,\u001b[0m \u001b[0mcustom_objects\u001b[0m\u001b[1;33m,\u001b[0m \u001b[0mmodule_objects\u001b[0m\u001b[1;33m)\u001b[0m\u001b[1;33m\u001b[0m\u001b[1;33m\u001b[0m\u001b[0m\n\u001b[0;32m    555\u001b[0m   \u001b[1;32mif\u001b[0m \u001b[0mcls\u001b[0m \u001b[1;32mis\u001b[0m \u001b[1;32mNone\u001b[0m\u001b[1;33m:\u001b[0m\u001b[1;33m\u001b[0m\u001b[1;33m\u001b[0m\u001b[0m\n\u001b[1;32m--> 556\u001b[1;33m     raise ValueError(\n\u001b[0m\u001b[0;32m    557\u001b[0m         \u001b[1;34m'Unknown {}: {}. Please ensure this object is '\u001b[0m\u001b[1;33m\u001b[0m\u001b[1;33m\u001b[0m\u001b[0m\n\u001b[0;32m    558\u001b[0m         \u001b[1;34m'passed to the `custom_objects` argument. See '\u001b[0m\u001b[1;33m\u001b[0m\u001b[1;33m\u001b[0m\u001b[0m\n",
      "\u001b[1;31mValueError\u001b[0m: Unknown optimizer: Custom>Adam. Please ensure this object is passed to the `custom_objects` argument. See https://www.tensorflow.org/guide/keras/save_and_serialize#registering_the_custom_object for details."
     ]
    }
   ],
   "source": [
    "from tensorflow.keras.models import load_model\n",
    "pretrained_model = load_model('deepfake_detection_img_7_model.h5')"
   ]
  },
  {
   "cell_type": "code",
   "execution_count": 7,
   "id": "5f3b912f",
   "metadata": {},
   "outputs": [
    {
     "name": "stdout",
     "output_type": "stream",
     "text": [
      "9/9 [==============================] - 3s 359ms/step\n"
     ]
    }
   ],
   "source": [
    "prediction_1 = pretrained_model.predict(x_batch_1)"
   ]
  },
  {
   "cell_type": "code",
   "execution_count": 14,
   "id": "4def8e44",
   "metadata": {},
   "outputs": [
    {
     "data": {
      "text/plain": [
       "array([[0.03647271],\n",
       "       [0.04363726],\n",
       "       [0.0415481 ],\n",
       "       [0.04959573],\n",
       "       [0.05430809],\n",
       "       [0.04709324],\n",
       "       [0.03422688],\n",
       "       [0.04012933],\n",
       "       [0.04867841],\n",
       "       [0.04097216],\n",
       "       [0.04607139],\n",
       "       [0.03723883],\n",
       "       [0.03992304],\n",
       "       [0.06939282],\n",
       "       [0.05820895],\n",
       "       [0.03129249],\n",
       "       [0.04653999],\n",
       "       [0.0917791 ],\n",
       "       [0.0975567 ],\n",
       "       [0.13069525],\n",
       "       [0.1106978 ],\n",
       "       [0.10189753],\n",
       "       [0.14267564],\n",
       "       [0.14815727],\n",
       "       [0.16460168],\n",
       "       [0.16360179],\n",
       "       [0.15345462],\n",
       "       [0.1256625 ],\n",
       "       [0.12385751],\n",
       "       [0.08411311],\n",
       "       [0.04755712],\n",
       "       [0.05857792],\n",
       "       [0.0643538 ],\n",
       "       [0.05253277],\n",
       "       [0.05513065],\n",
       "       [0.04574655],\n",
       "       [0.07970752],\n",
       "       [0.06814782],\n",
       "       [0.06753089],\n",
       "       [0.08212168],\n",
       "       [0.06556707],\n",
       "       [0.07624288],\n",
       "       [0.0722072 ],\n",
       "       [0.0621874 ],\n",
       "       [0.06886096],\n",
       "       [0.08728341],\n",
       "       [0.09996136],\n",
       "       [0.08092626],\n",
       "       [0.06325629],\n",
       "       [0.07627313],\n",
       "       [0.07064012],\n",
       "       [0.0502109 ],\n",
       "       [0.05059661],\n",
       "       [0.04487752],\n",
       "       [0.03175582],\n",
       "       [0.01996297],\n",
       "       [0.02322269],\n",
       "       [0.02177254],\n",
       "       [0.0215905 ],\n",
       "       [0.02829998],\n",
       "       [0.02978532],\n",
       "       [0.04170864],\n",
       "       [0.05257505],\n",
       "       [0.06093855],\n",
       "       [0.0793584 ],\n",
       "       [0.10397304],\n",
       "       [0.12157857],\n",
       "       [0.15703261],\n",
       "       [0.14791873],\n",
       "       [0.13714337],\n",
       "       [0.1310934 ],\n",
       "       [0.16870582],\n",
       "       [0.2960071 ],\n",
       "       [0.22965658],\n",
       "       [0.20310177],\n",
       "       [0.16428804],\n",
       "       [0.19154918],\n",
       "       [0.1410342 ],\n",
       "       [0.13645269],\n",
       "       [0.12286381],\n",
       "       [0.09143967],\n",
       "       [0.06760035],\n",
       "       [0.11049942],\n",
       "       [0.14455256],\n",
       "       [0.1520978 ],\n",
       "       [0.13748372],\n",
       "       [0.12441025],\n",
       "       [0.11071737],\n",
       "       [0.09408396],\n",
       "       [0.07424887],\n",
       "       [0.07405908],\n",
       "       [0.09470815],\n",
       "       [0.10018338],\n",
       "       [0.0760686 ],\n",
       "       [0.08578867],\n",
       "       [0.07686613],\n",
       "       [0.06168412],\n",
       "       [0.05725354],\n",
       "       [0.04582295],\n",
       "       [0.03311173],\n",
       "       [0.04106503],\n",
       "       [0.03228285],\n",
       "       [0.02229019],\n",
       "       [0.0189875 ],\n",
       "       [0.01867217],\n",
       "       [0.01315956],\n",
       "       [0.01731993],\n",
       "       [0.02172346],\n",
       "       [0.02304283],\n",
       "       [0.02170894],\n",
       "       [0.01733092],\n",
       "       [0.02174995],\n",
       "       [0.02477762],\n",
       "       [0.02662243],\n",
       "       [0.01951917],\n",
       "       [0.02062354],\n",
       "       [0.02870489],\n",
       "       [0.03149952],\n",
       "       [0.03195969],\n",
       "       [0.02995734],\n",
       "       [0.03341584],\n",
       "       [0.03172503],\n",
       "       [0.03672022],\n",
       "       [0.04340088],\n",
       "       [0.04209426],\n",
       "       [0.04117136],\n",
       "       [0.04654778],\n",
       "       [0.0649301 ],\n",
       "       [0.10442025],\n",
       "       [0.09623985],\n",
       "       [0.07787163],\n",
       "       [0.10670488],\n",
       "       [0.09829022],\n",
       "       [0.11210121],\n",
       "       [0.11054298],\n",
       "       [0.08591718],\n",
       "       [0.09554551],\n",
       "       [0.1014635 ],\n",
       "       [0.14464562],\n",
       "       [0.13081975],\n",
       "       [0.15298969],\n",
       "       [0.11698226],\n",
       "       [0.12483276],\n",
       "       [0.13289905],\n",
       "       [0.05826426],\n",
       "       [0.03586404],\n",
       "       [0.03976511],\n",
       "       [0.01936452],\n",
       "       [0.01879934],\n",
       "       [0.02359162],\n",
       "       [0.02630273],\n",
       "       [0.05286271],\n",
       "       [0.05515333],\n",
       "       [0.11602403],\n",
       "       [0.09142058],\n",
       "       [0.08240151],\n",
       "       [0.03506714],\n",
       "       [0.02000407],\n",
       "       [0.0127633 ],\n",
       "       [0.00602326],\n",
       "       [0.00294082],\n",
       "       [0.00480862],\n",
       "       [0.00563578],\n",
       "       [0.00423362],\n",
       "       [0.0033441 ],\n",
       "       [0.00366784],\n",
       "       [0.00389399],\n",
       "       [0.00452973],\n",
       "       [0.00399831],\n",
       "       [0.00153086],\n",
       "       [0.00179367],\n",
       "       [0.00151761],\n",
       "       [0.00188432],\n",
       "       [0.0017705 ],\n",
       "       [0.00191545],\n",
       "       [0.00354607],\n",
       "       [0.00221504],\n",
       "       [0.00198831],\n",
       "       [0.00239305],\n",
       "       [0.0043191 ],\n",
       "       [0.00613213],\n",
       "       [0.00607544],\n",
       "       [0.00602967],\n",
       "       [0.00753235],\n",
       "       [0.01024219],\n",
       "       [0.0130312 ],\n",
       "       [0.01935392],\n",
       "       [0.0158015 ],\n",
       "       [0.01921355],\n",
       "       [0.02007683],\n",
       "       [0.01646225],\n",
       "       [0.01873335],\n",
       "       [0.02109288],\n",
       "       [0.02497752],\n",
       "       [0.02955992],\n",
       "       [0.01774882],\n",
       "       [0.04336898],\n",
       "       [0.03182177],\n",
       "       [0.02250765],\n",
       "       [0.02247808],\n",
       "       [0.02984235],\n",
       "       [0.06076678],\n",
       "       [0.05536859],\n",
       "       [0.03667561],\n",
       "       [0.04336993],\n",
       "       [0.03459913],\n",
       "       [0.02352098],\n",
       "       [0.02696756],\n",
       "       [0.01120054],\n",
       "       [0.00677154],\n",
       "       [0.00564239],\n",
       "       [0.00607747],\n",
       "       [0.00424765],\n",
       "       [0.00438524],\n",
       "       [0.00733537],\n",
       "       [0.01143035],\n",
       "       [0.00783851],\n",
       "       [0.01013552],\n",
       "       [0.01391042],\n",
       "       [0.01060086],\n",
       "       [0.00877316],\n",
       "       [0.008212  ],\n",
       "       [0.00829683],\n",
       "       [0.00702461],\n",
       "       [0.0063559 ],\n",
       "       [0.00475344],\n",
       "       [0.00649446],\n",
       "       [0.00811583],\n",
       "       [0.00780287],\n",
       "       [0.01045416],\n",
       "       [0.01461492],\n",
       "       [0.02042275],\n",
       "       [0.02227064],\n",
       "       [0.02390281],\n",
       "       [0.01669038],\n",
       "       [0.01372608],\n",
       "       [0.01149683],\n",
       "       [0.01070614],\n",
       "       [0.0149241 ],\n",
       "       [0.01499178],\n",
       "       [0.01078251],\n",
       "       [0.01249167],\n",
       "       [0.0106998 ],\n",
       "       [0.01127528],\n",
       "       [0.01777955],\n",
       "       [0.01494079],\n",
       "       [0.01637165],\n",
       "       [0.01271881],\n",
       "       [0.01174174],\n",
       "       [0.01184148],\n",
       "       [0.00919352],\n",
       "       [0.01067707],\n",
       "       [0.01522723],\n",
       "       [0.01646084],\n",
       "       [0.0130572 ],\n",
       "       [0.01403709],\n",
       "       [0.01801998],\n",
       "       [0.01299168],\n",
       "       [0.00941007],\n",
       "       [0.0125355 ],\n",
       "       [0.02083247],\n",
       "       [0.0081304 ],\n",
       "       [0.00485217],\n",
       "       [0.00820532],\n",
       "       [0.00531251],\n",
       "       [0.00814358],\n",
       "       [0.00422553],\n",
       "       [0.00525977],\n",
       "       [0.00473077],\n",
       "       [0.00511389],\n",
       "       [0.00807172],\n",
       "       [0.01936387],\n",
       "       [0.02461779]], dtype=float32)"
      ]
     },
     "execution_count": 14,
     "metadata": {},
     "output_type": "execute_result"
    }
   ],
   "source": [
    "a1 = prediction_1\n",
    "a1"
   ]
  },
  {
   "cell_type": "code",
   "execution_count": 25,
   "id": "e8659681",
   "metadata": {},
   "outputs": [],
   "source": [
    "count1 = 0\n",
    "for i in a1:\n",
    "    if i < 0.5:\n",
    "        count1+=1"
   ]
  },
  {
   "cell_type": "code",
   "execution_count": 26,
   "id": "59a3c0d4",
   "metadata": {},
   "outputs": [
    {
     "data": {
      "text/plain": [
       "273"
      ]
     },
     "execution_count": 26,
     "metadata": {},
     "output_type": "execute_result"
    }
   ],
   "source": [
    "count1//"
   ]
  },
  {
   "cell_type": "code",
   "execution_count": 27,
   "id": "45c989b5",
   "metadata": {},
   "outputs": [
    {
     "name": "stdout",
     "output_type": "stream",
     "text": [
      "real\n"
     ]
    }
   ],
   "source": [
    "if count1 <= len(a1)//2:\n",
    "    print('fake')\n",
    "else:\n",
    "    print('real')"
   ]
  },
  {
   "cell_type": "code",
   "execution_count": 28,
   "id": "31a1ea51",
   "metadata": {},
   "outputs": [
    {
     "data": {
      "text/plain": [
       "273"
      ]
     },
     "execution_count": 28,
     "metadata": {},
     "output_type": "execute_result"
    }
   ],
   "source": [
    "len(a1)"
   ]
  },
  {
   "cell_type": "code",
   "execution_count": 29,
   "id": "9beacda7",
   "metadata": {},
   "outputs": [
    {
     "data": {
      "text/plain": [
       "273"
      ]
     },
     "execution_count": 29,
     "metadata": {},
     "output_type": "execute_result"
    }
   ],
   "source": [
    "count1"
   ]
  },
  {
   "cell_type": "code",
   "execution_count": null,
   "id": "f3ef8a99",
   "metadata": {},
   "outputs": [],
   "source": []
  }
 ],
 "metadata": {
  "kernelspec": {
   "display_name": "Python 3",
   "language": "python",
   "name": "python3"
  },
  "language_info": {
   "codemirror_mode": {
    "name": "ipython",
    "version": 3
   },
   "file_extension": ".py",
   "mimetype": "text/x-python",
   "name": "python",
   "nbconvert_exporter": "python",
   "pygments_lexer": "ipython3",
   "version": "3.8.8"
  }
 },
 "nbformat": 4,
 "nbformat_minor": 5
}
