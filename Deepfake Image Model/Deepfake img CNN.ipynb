{
 "cells": [
  {
   "cell_type": "code",
   "execution_count": 27,
   "id": "39641e35",
   "metadata": {},
   "outputs": [],
   "source": [
    "import tensorflow as tf\n",
    "from tensorflow.keras import layers, models\n",
    "from tensorflow.keras.preprocessing.image import ImageDataGenerator\n",
    "from tensorflow.keras.optimizers import Adam\n",
    "import os\n",
    "import cv2\n",
    "import numpy as np\n",
    "import pandas as pd"
   ]
  },
  {
   "cell_type": "code",
   "execution_count": 28,
   "id": "bf3e5c05",
   "metadata": {},
   "outputs": [],
   "source": [
    "def load_train_images_from_folder(folder_path):\n",
    "    \n",
    "    image_filenames = os.listdir(folder_path)\n",
    "    images = []\n",
    "    i = 0\n",
    "    for image_filename in image_filenames:\n",
    "        \n",
    "        if i < 150 :\n",
    "            image = cv2.imread(os.path.join(folder_path, image_filename))\n",
    "            images.append(image)\n",
    "            i = i+1\n",
    "\n",
    "    return np.array(images)\n",
    "def load_test_images_from_folder(folder_path):\n",
    "    \n",
    "    image_filenames = os.listdir(folder_path)\n",
    "    images = []\n",
    "    i = 0\n",
    "    for image_filename in image_filenames:\n",
    "        if i < 45 :\n",
    "            image = cv2.imread(os.path.join(folder_path, image_filename))\n",
    "            images.append(image)\n",
    "            i = i+1\n",
    "\n",
    "    return np.array(images)"
   ]
  },
  {
   "cell_type": "code",
   "execution_count": 29,
   "id": "7d1b56b8",
   "metadata": {},
   "outputs": [],
   "source": [
    "test_fake_images = load_train_images_from_folder(\"C://Users//pajag//OneDrive//Desktop//Dataset//Test//Fake\")"
   ]
  },
  {
   "cell_type": "code",
   "execution_count": 30,
   "id": "4dd17b74",
   "metadata": {},
   "outputs": [],
   "source": [
    "test_real_images = load_test_images_from_folder(\"C://Users//pajag//OneDrive//Desktop//Dataset//Test//Real\")"
   ]
  },
  {
   "cell_type": "code",
   "execution_count": 31,
   "id": "65c2917b",
   "metadata": {},
   "outputs": [],
   "source": [
    "train_fake_images = load_train_images_from_folder(\"C://Users//pajag//OneDrive//Desktop//Dataset//Train//Fake\")"
   ]
  },
  {
   "cell_type": "code",
   "execution_count": 32,
   "id": "c6ea3372",
   "metadata": {},
   "outputs": [],
   "source": [
    "train_real_images = load_train_images_from_folder(\"C://Users//pajag//OneDrive//Desktop//Dataset//Train//Real\")"
   ]
  },
  {
   "cell_type": "code",
   "execution_count": 33,
   "id": "30cb0594",
   "metadata": {},
   "outputs": [],
   "source": [
    "IMAGE_SIZE = (224, 224)\n",
    "def preprocess_images(array):\n",
    "    resized = []\n",
    "    for img in array:\n",
    "        img = cv2.resize(img, IMAGE_SIZE)\n",
    "        img = img / 255.0\n",
    "        resized.append(img)\n",
    "    return resized"
   ]
  },
  {
   "cell_type": "code",
   "execution_count": 34,
   "id": "162574d0",
   "metadata": {},
   "outputs": [],
   "source": [
    "train_fake_images = preprocess_images(train_fake_images)\n",
    "train_real_images = preprocess_images(train_real_images)\n",
    "test_real_images  = preprocess_images(test_real_images)\n",
    "test_fake_images  = preprocess_images(test_fake_images)"
   ]
  },
  {
   "cell_type": "code",
   "execution_count": 35,
   "id": "8a327480",
   "metadata": {},
   "outputs": [],
   "source": [
    "fake_train_df = pd.DataFrame({'image': train_fake_images, 'label': '0'})"
   ]
  },
  {
   "cell_type": "code",
   "execution_count": 36,
   "id": "7c46380f",
   "metadata": {},
   "outputs": [],
   "source": [
    "real_test_df = pd.DataFrame({'image': test_real_images, 'label': '1'})"
   ]
  },
  {
   "cell_type": "code",
   "execution_count": 37,
   "id": "85f69ad1",
   "metadata": {},
   "outputs": [],
   "source": [
    "fake_test_df = pd.DataFrame({'image': test_fake_images, 'label': '0'})"
   ]
  },
  {
   "cell_type": "code",
   "execution_count": 38,
   "id": "f67ff4cc",
   "metadata": {},
   "outputs": [],
   "source": [
    "real_train_df = pd.DataFrame({'image': train_real_images, 'label': '1'})"
   ]
  },
  {
   "cell_type": "code",
   "execution_count": 39,
   "id": "4424d9b2",
   "metadata": {},
   "outputs": [],
   "source": [
    "test_df = pd.concat([real_test_df,fake_test_df])"
   ]
  },
  {
   "cell_type": "code",
   "execution_count": 40,
   "id": "864daa84",
   "metadata": {},
   "outputs": [
    {
     "data": {
      "text/html": [
       "<div>\n",
       "<style scoped>\n",
       "    .dataframe tbody tr th:only-of-type {\n",
       "        vertical-align: middle;\n",
       "    }\n",
       "\n",
       "    .dataframe tbody tr th {\n",
       "        vertical-align: top;\n",
       "    }\n",
       "\n",
       "    .dataframe thead th {\n",
       "        text-align: right;\n",
       "    }\n",
       "</style>\n",
       "<table border=\"1\" class=\"dataframe\">\n",
       "  <thead>\n",
       "    <tr style=\"text-align: right;\">\n",
       "      <th></th>\n",
       "      <th>image</th>\n",
       "      <th>label</th>\n",
       "    </tr>\n",
       "  </thead>\n",
       "  <tbody>\n",
       "    <tr>\n",
       "      <th>0</th>\n",
       "      <td>[[[0.26666666666666666, 0.13333333333333333, 0...</td>\n",
       "      <td>1</td>\n",
       "    </tr>\n",
       "    <tr>\n",
       "      <th>1</th>\n",
       "      <td>[[[0.5882352941176471, 0.6352941176470588, 0.8...</td>\n",
       "      <td>1</td>\n",
       "    </tr>\n",
       "    <tr>\n",
       "      <th>2</th>\n",
       "      <td>[[[0.15294117647058825, 0.1568627450980392, 0....</td>\n",
       "      <td>1</td>\n",
       "    </tr>\n",
       "    <tr>\n",
       "      <th>3</th>\n",
       "      <td>[[[0.43137254901960786, 0.4392156862745098, 0....</td>\n",
       "      <td>1</td>\n",
       "    </tr>\n",
       "    <tr>\n",
       "      <th>4</th>\n",
       "      <td>[[[0.5450980392156862, 0.6078431372549019, 0.5...</td>\n",
       "      <td>1</td>\n",
       "    </tr>\n",
       "  </tbody>\n",
       "</table>\n",
       "</div>"
      ],
      "text/plain": [
       "                                               image label\n",
       "0  [[[0.26666666666666666, 0.13333333333333333, 0...     1\n",
       "1  [[[0.5882352941176471, 0.6352941176470588, 0.8...     1\n",
       "2  [[[0.15294117647058825, 0.1568627450980392, 0....     1\n",
       "3  [[[0.43137254901960786, 0.4392156862745098, 0....     1\n",
       "4  [[[0.5450980392156862, 0.6078431372549019, 0.5...     1"
      ]
     },
     "execution_count": 40,
     "metadata": {},
     "output_type": "execute_result"
    }
   ],
   "source": [
    "test_df.head()"
   ]
  },
  {
   "cell_type": "code",
   "execution_count": 41,
   "id": "410b21c5",
   "metadata": {},
   "outputs": [],
   "source": [
    "train_df = pd.concat([real_train_df,fake_train_df])"
   ]
  },
  {
   "cell_type": "code",
   "execution_count": 42,
   "id": "1c3d9fe7",
   "metadata": {},
   "outputs": [
    {
     "data": {
      "text/html": [
       "<div>\n",
       "<style scoped>\n",
       "    .dataframe tbody tr th:only-of-type {\n",
       "        vertical-align: middle;\n",
       "    }\n",
       "\n",
       "    .dataframe tbody tr th {\n",
       "        vertical-align: top;\n",
       "    }\n",
       "\n",
       "    .dataframe thead th {\n",
       "        text-align: right;\n",
       "    }\n",
       "</style>\n",
       "<table border=\"1\" class=\"dataframe\">\n",
       "  <thead>\n",
       "    <tr style=\"text-align: right;\">\n",
       "      <th></th>\n",
       "      <th>image</th>\n",
       "      <th>label</th>\n",
       "    </tr>\n",
       "  </thead>\n",
       "  <tbody>\n",
       "    <tr>\n",
       "      <th>0</th>\n",
       "      <td>[[[0.26666666666666666, 0.13333333333333333, 0...</td>\n",
       "      <td>1</td>\n",
       "    </tr>\n",
       "    <tr>\n",
       "      <th>1</th>\n",
       "      <td>[[[0.5882352941176471, 0.6352941176470588, 0.8...</td>\n",
       "      <td>1</td>\n",
       "    </tr>\n",
       "    <tr>\n",
       "      <th>2</th>\n",
       "      <td>[[[0.15294117647058825, 0.1568627450980392, 0....</td>\n",
       "      <td>1</td>\n",
       "    </tr>\n",
       "    <tr>\n",
       "      <th>3</th>\n",
       "      <td>[[[0.43137254901960786, 0.4392156862745098, 0....</td>\n",
       "      <td>1</td>\n",
       "    </tr>\n",
       "    <tr>\n",
       "      <th>4</th>\n",
       "      <td>[[[0.5450980392156862, 0.6078431372549019, 0.5...</td>\n",
       "      <td>1</td>\n",
       "    </tr>\n",
       "  </tbody>\n",
       "</table>\n",
       "</div>"
      ],
      "text/plain": [
       "                                               image label\n",
       "0  [[[0.26666666666666666, 0.13333333333333333, 0...     1\n",
       "1  [[[0.5882352941176471, 0.6352941176470588, 0.8...     1\n",
       "2  [[[0.15294117647058825, 0.1568627450980392, 0....     1\n",
       "3  [[[0.43137254901960786, 0.4392156862745098, 0....     1\n",
       "4  [[[0.5450980392156862, 0.6078431372549019, 0.5...     1"
      ]
     },
     "execution_count": 42,
     "metadata": {},
     "output_type": "execute_result"
    }
   ],
   "source": [
    "train_df.head()"
   ]
  },
  {
   "cell_type": "code",
   "execution_count": 43,
   "id": "5b89df97",
   "metadata": {},
   "outputs": [],
   "source": [
    "train_df = train_df.iloc[np.random.permutation(len(train_df))]"
   ]
  },
  {
   "cell_type": "code",
   "execution_count": 44,
   "id": "8ab3b013",
   "metadata": {},
   "outputs": [],
   "source": [
    "test_df = test_df.iloc[np.random.permutation(len(test_df))]"
   ]
  },
  {
   "cell_type": "code",
   "execution_count": 45,
   "id": "aecf4e8e",
   "metadata": {},
   "outputs": [
    {
     "data": {
      "text/html": [
       "<div>\n",
       "<style scoped>\n",
       "    .dataframe tbody tr th:only-of-type {\n",
       "        vertical-align: middle;\n",
       "    }\n",
       "\n",
       "    .dataframe tbody tr th {\n",
       "        vertical-align: top;\n",
       "    }\n",
       "\n",
       "    .dataframe thead th {\n",
       "        text-align: right;\n",
       "    }\n",
       "</style>\n",
       "<table border=\"1\" class=\"dataframe\">\n",
       "  <thead>\n",
       "    <tr style=\"text-align: right;\">\n",
       "      <th></th>\n",
       "      <th>image</th>\n",
       "      <th>label</th>\n",
       "    </tr>\n",
       "  </thead>\n",
       "  <tbody>\n",
       "    <tr>\n",
       "      <th>129</th>\n",
       "      <td>[[[0.23137254901960785, 0.19215686274509805, 0...</td>\n",
       "      <td>1</td>\n",
       "    </tr>\n",
       "    <tr>\n",
       "      <th>112</th>\n",
       "      <td>[[[0.9529411764705882, 0.9686274509803922, 0.9...</td>\n",
       "      <td>0</td>\n",
       "    </tr>\n",
       "    <tr>\n",
       "      <th>146</th>\n",
       "      <td>[[[0.8862745098039215, 0.8941176470588236, 0.8...</td>\n",
       "      <td>0</td>\n",
       "    </tr>\n",
       "    <tr>\n",
       "      <th>116</th>\n",
       "      <td>[[[0.2784313725490196, 0.2901960784313726, 0.3...</td>\n",
       "      <td>1</td>\n",
       "    </tr>\n",
       "    <tr>\n",
       "      <th>45</th>\n",
       "      <td>[[[0.43529411764705883, 0.4666666666666667, 0....</td>\n",
       "      <td>1</td>\n",
       "    </tr>\n",
       "  </tbody>\n",
       "</table>\n",
       "</div>"
      ],
      "text/plain": [
       "                                                 image label\n",
       "129  [[[0.23137254901960785, 0.19215686274509805, 0...     1\n",
       "112  [[[0.9529411764705882, 0.9686274509803922, 0.9...     0\n",
       "146  [[[0.8862745098039215, 0.8941176470588236, 0.8...     0\n",
       "116  [[[0.2784313725490196, 0.2901960784313726, 0.3...     1\n",
       "45   [[[0.43529411764705883, 0.4666666666666667, 0....     1"
      ]
     },
     "execution_count": 45,
     "metadata": {},
     "output_type": "execute_result"
    }
   ],
   "source": [
    "train_df.head()"
   ]
  },
  {
   "cell_type": "code",
   "execution_count": 46,
   "id": "15c7ccf4",
   "metadata": {},
   "outputs": [
    {
     "data": {
      "text/plain": [
       "image    [[[0.9490196078431372, 0.9529411764705882, 0.9...\n",
       "label                                                    1\n",
       "Name: 11, dtype: object"
      ]
     },
     "execution_count": 46,
     "metadata": {},
     "output_type": "execute_result"
    }
   ],
   "source": [
    "test_df.iloc[1]"
   ]
  },
  {
   "cell_type": "code",
   "execution_count": 47,
   "id": "cbc3f655",
   "metadata": {},
   "outputs": [],
   "source": [
    "model = models.Sequential()\n",
    "model.add(layers.Conv2D(32, (3, 3), activation='relu', input_shape=(IMAGE_SIZE[0], IMAGE_SIZE[1], 3)))\n",
    "model.add(layers.MaxPooling2D((2, 2)))\n",
    "model.add(layers.Conv2D(64, (3, 3), activation='relu'))\n",
    "model.add(layers.MaxPooling2D((2, 2)))\n",
    "model.add(layers.Conv2D(128, (3, 3), activation='relu'))\n",
    "model.add(layers.MaxPooling2D((2, 2)))\n",
    "model.add(layers.Flatten())\n",
    "model.add(layers.Dense(128, activation='relu'))\n",
    "model.add(layers.Dropout(0.5))\n",
    "model.add(layers.Dense(1, activation='sigmoid'))"
   ]
  },
  {
   "cell_type": "code",
   "execution_count": 48,
   "id": "1853d3ed",
   "metadata": {},
   "outputs": [],
   "source": [
    "model.compile(loss='binary_crossentropy',optimizer='adam', metrics=['accuracy'])"
   ]
  },
  {
   "cell_type": "code",
   "execution_count": 49,
   "id": "1f679811",
   "metadata": {},
   "outputs": [],
   "source": [
    "x_batch = train_df['image']\n",
    "y_batch = train_df['label']"
   ]
  },
  {
   "cell_type": "code",
   "execution_count": 50,
   "id": "82ad6a6a",
   "metadata": {},
   "outputs": [],
   "source": [
    "x_batch = [tf.convert_to_tensor(img) for img in x_batch]\n",
    "x_batch = tf.stack(x_batch)\n",
    "y_batch = tf.convert_to_tensor(y_batch)\n",
    "y_batch = tf.strings.to_number(y_batch, out_type=tf.float32)"
   ]
  },
  {
   "cell_type": "code",
   "execution_count": 51,
   "id": "9950b514",
   "metadata": {},
   "outputs": [
    {
     "name": "stdout",
     "output_type": "stream",
     "text": [
      "Epoch 1/5\n",
      "3/3 [==============================] - 20s 5s/step - loss: 1.4448 - accuracy: 0.4767\n",
      "Epoch 2/5\n",
      "3/3 [==============================] - 14s 4s/step - loss: 0.8819 - accuracy: 0.5200\n",
      "Epoch 3/5\n",
      "3/3 [==============================] - 14s 4s/step - loss: 0.6552 - accuracy: 0.5333\n",
      "Epoch 4/5\n",
      "3/3 [==============================] - 13s 4s/step - loss: 0.5964 - accuracy: 0.7733\n",
      "Epoch 5/5\n",
      "3/3 [==============================] - 13s 4s/step - loss: 0.4690 - accuracy: 0.8700\n"
     ]
    },
    {
     "data": {
      "text/plain": [
       "<keras.src.callbacks.History at 0x1f41516d0a0>"
      ]
     },
     "execution_count": 51,
     "metadata": {},
     "output_type": "execute_result"
    }
   ],
   "source": [
    "model.fit(x_batch,y_batch,batch_size=128,epochs=5)"
   ]
  },
  {
   "cell_type": "code",
   "execution_count": 56,
   "id": "6215c56e",
   "metadata": {},
   "outputs": [],
   "source": [
    "def evaluate_model(data):\n",
    "    test_images = [tf.convert_to_tensor(image) for image in data['image'].values]\n",
    "    test_images = tf.stack(test_images)\n",
    "\n",
    "    test_labels = tf.convert_to_tensor(data['label'].values)\n",
    "    test_labels = tf.strings.to_number(test_labels, out_type=tf.float32)\n",
    "\n",
    "    loss, accuracy = model.evaluate(test_images, test_labels)\n",
    "    return accuracy"
   ]
  },
  {
   "cell_type": "code",
   "execution_count": 57,
   "id": "7aeabd65",
   "metadata": {},
   "outputs": [
    {
     "name": "stdout",
     "output_type": "stream",
     "text": [
      "7/7 [==============================] - 3s 393ms/step - loss: 0.4709 - accuracy: 0.8359\n"
     ]
    },
    {
     "data": {
      "text/plain": [
       "0.8358974456787109"
      ]
     },
     "execution_count": 57,
     "metadata": {},
     "output_type": "execute_result"
    }
   ],
   "source": [
    "evaluate_model(test_df)"
   ]
  },
  {
   "cell_type": "code",
   "execution_count": 59,
   "id": "34d742bc",
   "metadata": {},
   "outputs": [],
   "source": [
    "def save_model(model, filename):\n",
    "    model.save(filename)"
   ]
  },
  {
   "cell_type": "code",
   "execution_count": 60,
   "id": "4253cde5",
   "metadata": {},
   "outputs": [
    {
     "name": "stderr",
     "output_type": "stream",
     "text": [
      "C:\\Users\\pajag\\anaconda3\\lib\\site-packages\\keras\\src\\engine\\training.py:3000: UserWarning: You are saving your model as an HDF5 file via `model.save()`. This file format is considered legacy. We recommend using instead the native Keras format, e.g. `model.save('my_model.keras')`.\n",
      "  saving_api.save_model(\n"
     ]
    }
   ],
   "source": [
    "save_model(model, \"deepfake_detection_img_model.h5\")"
   ]
  },
  {
   "cell_type": "code",
   "execution_count": null,
   "id": "67c73031",
   "metadata": {},
   "outputs": [],
   "source": []
  }
 ],
 "metadata": {
  "kernelspec": {
   "display_name": "Python 3",
   "language": "python",
   "name": "python3"
  },
  "language_info": {
   "codemirror_mode": {
    "name": "ipython",
    "version": 3
   },
   "file_extension": ".py",
   "mimetype": "text/x-python",
   "name": "python",
   "nbconvert_exporter": "python",
   "pygments_lexer": "ipython3",
   "version": "3.8.8"
  }
 },
 "nbformat": 4,
 "nbformat_minor": 5
}
